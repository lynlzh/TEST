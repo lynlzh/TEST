{
 "cells": [
  {
   "cell_type": "markdown",
   "metadata": {},
   "source": [
    "# Rock concert planning\n",
    "\n",
    "Your new-found optimization skills may not help you become a rock\n",
    "star, but they may help you ``plan`` for rock concerts.  This will\n",
    "surely increase your appeal to members of the opposite sex even more\n",
    "than becoming a rock star.\n",
    "Below is a set of tasks required to be performed before a rock\n",
    "concert.  Also included (in GAMS format) is a set of precedence\n",
    "relationships between tasks and the number of days required to perform\n",
    "each task.\n",
    "\n",
    "The promoters of a rock concert in Madison must perform the tasks\n",
    "shown before the concert can be held:"
   ]
  },
  {
   "cell_type": "code",
   "execution_count": 7,
   "metadata": {
    "scrolled": true
   },
   "outputs": [
    {
     "name": "stdout",
     "output_type": "stream",
     "text": [
      "The gams.magic extension is already loaded. To reload it, use:\n",
      "  %reload_ext gams.magic\n"
     ]
    }
   ],
   "source": [
    "# Load the gams extension\n",
    "%load_ext gams.magic\n",
    "m = gams.exchange_container"
   ]
  },
  {
   "cell_type": "code",
   "execution_count": 8,
   "metadata": {},
   "outputs": [
    {
     "name": "stdout",
     "output_type": "stream",
     "text": [
      "--- Warning: The GAMS version (44.3.0) differs from the API version (45.1.0).\n",
      "--- Warning: The GAMS version (44.3.0) differs from the API version (45.1.0).\n"
     ]
    }
   ],
   "source": [
    "%%gams\n",
    "set activity /\n",
    "        A \"Find Site\",\n",
    "        B \"Find Engineers\",\n",
    "        C \"Hire Opening Act\",\n",
    "        D \"Set Radio and TV Ads\",\n",
    "        E \"Set Up Ticket Agents\",\n",
    "        F \"Prepare Electronics\",\n",
    "        G \"Print Advertising\",\n",
    "        H \"Set up Transportation\",\n",
    "        I \"Rehearsals\",\n",
    "        J \"Last-Minute Details\"\n",
    "/;\n",
    "\n",
    "alias (activity,ai,aj);\n",
    "\n",
    "set pred(ai,aj) \"ai preceeds aj\" /\n",
    "        A. (B,C,E) \n",
    "        B . F\n",
    "        C . (D,G,H)\n",
    "        (F,H) . I\n",
    "        I . J\n",
    "/;\n",
    "\n",
    "parameter duration(activity) \"in days\" /\n",
    "        A       3,      B       2\n",
    "        C       6,      D       2\n",
    "        E       3,      F       3\n",
    "        G       5,      H       1\n",
    "        I       1.5,    J       2\n",
    "/;"
   ]
  },
  {
   "cell_type": "markdown",
   "metadata": {},
   "source": [
    "If any increase in the duration of an activity increases the time\n",
    "needed to complete the project, then the activity is called a critical\n",
    "activity.  We will find the critical activities in this project in two\n",
    "different ways.\n",
    "\n",
    "### Method 1\n",
    "Set up a linear program to find the project duration (that is the\n",
    "minimum number of days needed to prepare for the concert).  Determine the critical tasks by inspecting the multipliers of this problem!   Make sure you store and print out the critical tasks."
   ]
  },
  {
   "cell_type": "code",
   "execution_count": 9,
   "metadata": {},
   "outputs": [
    {
     "name": "stdout",
     "output_type": "stream",
     "text": [
      "--- Warning: The GAMS version (44.3.0) differs from the API version (45.1.0).\n",
      "--- Warning: The GAMS version (44.3.0) differs from the API version (45.1.0).\n"
     ]
    },
    {
     "data": {
      "text/html": [
       "<div>\n",
       "<style scoped>\n",
       "    .dataframe tbody tr th:only-of-type {\n",
       "        vertical-align: middle;\n",
       "    }\n",
       "\n",
       "    .dataframe tbody tr th {\n",
       "        vertical-align: top;\n",
       "    }\n",
       "\n",
       "    .dataframe thead th {\n",
       "        text-align: right;\n",
       "    }\n",
       "</style>\n",
       "<table border=\"1\" class=\"dataframe\">\n",
       "  <thead>\n",
       "    <tr style=\"text-align: right;\">\n",
       "      <th></th>\n",
       "      <th>Solver Status</th>\n",
       "      <th>Model Status</th>\n",
       "      <th>Objective</th>\n",
       "      <th>#equ</th>\n",
       "      <th>#var</th>\n",
       "      <th>Model Type</th>\n",
       "      <th>Solver</th>\n",
       "      <th>Solver Time</th>\n",
       "    </tr>\n",
       "  </thead>\n",
       "  <tbody>\n",
       "    <tr>\n",
       "      <th>0</th>\n",
       "      <td>Normal (1)</td>\n",
       "      <td>Optimal Global (1)</td>\n",
       "      <td>14.0</td>\n",
       "      <td>20</td>\n",
       "      <td>11</td>\n",
       "      <td>LP</td>\n",
       "      <td>CPLEX</td>\n",
       "      <td>0</td>\n",
       "    </tr>\n",
       "  </tbody>\n",
       "</table>\n",
       "</div>"
      ],
      "text/plain": [
       "  Solver Status        Model Status  Objective #equ #var Model Type Solver  \\\n",
       "0    Normal (1)  Optimal Global (1)       14.0   20   11         LP  CPLEX   \n",
       "\n",
       "  Solver Time  \n",
       "0           0  "
      ]
     },
     "execution_count": 9,
     "metadata": {},
     "output_type": "execute_result"
    }
   ],
   "source": [
    "%%gams\n",
    "variables projdur;\n",
    "positive variable t(activity) \"time activity starts\";\n",
    "\n",
    "equations incidence(ai,aj), endtime(activity);\n",
    "\n",
    "incidence(ai,aj)$pred(ai,aj)..\n",
    "    t(aj) =g= t(ai) + duration(ai);\n",
    "\n",
    "endtime(activity)..\n",
    "    projdur =g= t(activity) + duration(activity);\n",
    "\n",
    "model cpm /incidence,endTime/;\n",
    "\n",
    "solve cpm using lp minimizing projdur;\n",
    "\n",
    "set critical(activity) \"critical activities\";\n",
    "\n",
    "critical(activity) = yes$(smax(aj$pred(aj,activity),incidence.m(aj,activity)) ge 1 or smax(aj$pred(activity,aj),incidence.m(activity,aj)) ge 1);\n",
    "\n",
    "display critical;"
   ]
  },
  {
   "cell_type": "code",
   "execution_count": 10,
   "metadata": {},
   "outputs": [
    {
     "name": "stdout",
     "output_type": "stream",
     "text": [
      "critical arcs:  A C G\n"
     ]
    }
   ],
   "source": [
    "print('critical arcs: ', *m.data['critical'].toList())"
   ]
  },
  {
   "cell_type": "markdown",
   "metadata": {},
   "source": [
    "### Method 2\n",
    "Now use two\n",
    "other linear programs to find the early event times (the earliest\n",
    "possible starting time for an activity) and the late event\n",
    "times (the latest possible time to start the activity without delaying\n",
    "project completion time).  Then construct the critical activities by seeing which early\n",
    "event times are the same as the corresponding late event times.\n",
    "Make sure your print out includes a listing of the\n",
    "early and late event times, and the critical activities."
   ]
  },
  {
   "cell_type": "code",
   "execution_count": 11,
   "metadata": {},
   "outputs": [
    {
     "name": "stdout",
     "output_type": "stream",
     "text": [
      "--- Warning: The GAMS version (44.3.0) differs from the API version (45.1.0).\n",
      "--- Warning: The GAMS version (44.3.0) differs from the API version (45.1.0).\n"
     ]
    },
    {
     "data": {
      "text/html": [
       "<div>\n",
       "<style scoped>\n",
       "    .dataframe tbody tr th:only-of-type {\n",
       "        vertical-align: middle;\n",
       "    }\n",
       "\n",
       "    .dataframe tbody tr th {\n",
       "        vertical-align: top;\n",
       "    }\n",
       "\n",
       "    .dataframe thead th {\n",
       "        text-align: right;\n",
       "    }\n",
       "</style>\n",
       "<table border=\"1\" class=\"dataframe\">\n",
       "  <thead>\n",
       "    <tr style=\"text-align: right;\">\n",
       "      <th></th>\n",
       "      <th>Solver Status</th>\n",
       "      <th>Model Status</th>\n",
       "      <th>Objective</th>\n",
       "      <th>#equ</th>\n",
       "      <th>#var</th>\n",
       "      <th>Model Type</th>\n",
       "      <th>Solver</th>\n",
       "      <th>Solver Time</th>\n",
       "    </tr>\n",
       "  </thead>\n",
       "  <tbody>\n",
       "    <tr>\n",
       "      <th>0</th>\n",
       "      <td>Normal (1)</td>\n",
       "      <td>Optimal Global (1)</td>\n",
       "      <td>80.0</td>\n",
       "      <td>21</td>\n",
       "      <td>12</td>\n",
       "      <td>LP</td>\n",
       "      <td>CPLEX</td>\n",
       "      <td>0</td>\n",
       "    </tr>\n",
       "    <tr>\n",
       "      <th>1</th>\n",
       "      <td>Normal (1)</td>\n",
       "      <td>Optimal Global (1)</td>\n",
       "      <td>62.5</td>\n",
       "      <td>21</td>\n",
       "      <td>12</td>\n",
       "      <td>LP</td>\n",
       "      <td>CPLEX</td>\n",
       "      <td>0</td>\n",
       "    </tr>\n",
       "  </tbody>\n",
       "</table>\n",
       "</div>"
      ],
      "text/plain": [
       "  Solver Status        Model Status  Objective #equ #var Model Type Solver  \\\n",
       "0    Normal (1)  Optimal Global (1)       80.0   21   12         LP  CPLEX   \n",
       "1    Normal (1)  Optimal Global (1)       62.5   21   12         LP  CPLEX   \n",
       "\n",
       "  Solver Time  \n",
       "0           0  \n",
       "1           0  "
      ]
     },
     "execution_count": 11,
     "metadata": {},
     "output_type": "execute_result"
    }
   ],
   "source": [
    "%%gams\n",
    "parameter\n",
    "    eetime(activity) \"early event time\",\n",
    "    letime(activity) \"late event time\";\n",
    "\n",
    "projdur.fx = projdur.l;\n",
    "\n",
    "variables obj;\n",
    "equations timeopt;\n",
    "\n",
    "timeopt..\n",
    "    obj =e= sum(activity,t(activity));\n",
    "\n",
    "model eventtimes /timeopt,incidence,endtime/;\n",
    "\n",
    "solve eventtimes using lp maximizing obj;\n",
    "\n",
    "letime(activity) = t.l(activity);\n",
    "\n",
    "solve eventtimes using lp minimizing obj;\n",
    "\n",
    "eetime(activity) = t.l(activity);\n",
    "\n",
    "critical(activity) = yes$(eetime(activity) ge letime(activity));\n",
    "\n",
    "display eetime,letime,critical;\n"
   ]
  },
  {
   "cell_type": "code",
   "execution_count": 12,
   "metadata": {},
   "outputs": [
    {
     "name": "stdout",
     "output_type": "stream",
     "text": [
      "critical arcs:  A C G\n",
      "early event times: \n",
      "('B', 3.0)\n",
      "('C', 3.0)\n",
      "('D', 9.0)\n",
      "('E', 3.0)\n",
      "('F', 5.0)\n",
      "('G', 9.0)\n",
      "('H', 9.0)\n",
      "('I', 10.0)\n",
      "('J', 11.5)\n",
      "late event times: \n",
      "('B', 5.5)\n",
      "('C', 3.0)\n",
      "('D', 12.0)\n",
      "('E', 11.0)\n",
      "('F', 7.5)\n",
      "('G', 9.0)\n",
      "('H', 9.5)\n",
      "('I', 10.5)\n",
      "('J', 12.0)\n"
     ]
    }
   ],
   "source": [
    "print('critical arcs: ', *m.data['critical'].toList())\n",
    "print('early event times: ', *m.data['eetime'].toList(), sep='\\n')\n",
    "print('late event times: ', *m.data['letime'].toList(), sep='\\n')"
   ]
  },
  {
   "cell_type": "markdown",
   "metadata": {},
   "source": [
    "### Which of these two methods is more reliable?"
   ]
  },
  {
   "cell_type": "markdown",
   "metadata": {},
   "source": [
    "Type answer here!"
   ]
  },
  {
   "cell_type": "code",
   "execution_count": 13,
   "metadata": {},
   "outputs": [],
   "source": [
    "%gams_cleanup --closedown"
   ]
  },
  {
   "cell_type": "markdown",
   "metadata": {},
   "source": [
    "Method 1 identifies the critical tasks by optimizing the project duration and examining the corresponding dual variables. This approach is mathematically precise and gives a direct measure of the project's shortest duration. However, for very large problems, considering all constraints directly might lead to computational inefficiencies.\n",
    "\n",
    "Method 2 identifies the critical tasks by computing the earliest start times and the latest start times for each task. This approach is generally more intuitive, especially for those unfamiliar with linear programming. This method is also scalable for large problems as it breaks down the problem into two smaller ones.\n",
    "\n",
    "If one is looking for a quick and intuitive way to identify critical tasks and less concerned about the exact shortest duration of the project, method 2 might be more suitable.If you want to optimize the project's duration and gather related dual information, then method 1 might be the better choice.\n"
   ]
  },
  {
   "cell_type": "code",
   "execution_count": null,
   "metadata": {},
   "outputs": [],
   "source": []
  }
 ],
 "metadata": {
  "kernelspec": {
   "display_name": "Python 3 (ipykernel)",
   "language": "python",
   "name": "python3"
  },
  "language_info": {
   "codemirror_mode": {
    "name": "ipython",
    "version": 3
   },
   "file_extension": ".py",
   "mimetype": "text/x-python",
   "name": "python",
   "nbconvert_exporter": "python",
   "pygments_lexer": "ipython3",
   "version": "3.10.9"
  }
 },
 "nbformat": 4,
 "nbformat_minor": 4
}
